{
 "cells": [
  {
   "cell_type": "code",
   "execution_count": 1,
   "metadata": {},
   "outputs": [
    {
     "name": "stdout",
     "output_type": "stream",
     "text": [
      "已经滚动了10次\n",
      "Scraped xueqiu output: data/xueqiu_home/20230405/outlines_20230405-080737.yaml\n",
      "Done\n"
     ]
    }
   ],
   "source": [
    "from scrape_xueqiu_home import ScrapeXueqiuHome\n",
    "\n",
    "def scrape_xueqiu():\n",
    "    scrape = ScrapeXueqiuHome()\n",
    "    outlines_save_path = scrape.scrape(scroll_times=10, details=False)\n",
    "    print('Scraped xueqiu output:', outlines_save_path)\n",
    "\n",
    "scrape_xueqiu()\n",
    "\n",
    "print('Done')"
   ]
  },
  {
   "cell_type": "code",
   "execution_count": null,
   "metadata": {},
   "outputs": [],
   "source": []
  }
 ],
 "metadata": {
  "kernelspec": {
   "display_name": "py310",
   "language": "python",
   "name": "python3"
  },
  "language_info": {
   "codemirror_mode": {
    "name": "ipython",
    "version": 3
   },
   "file_extension": ".py",
   "mimetype": "text/x-python",
   "name": "python",
   "nbconvert_exporter": "python",
   "pygments_lexer": "ipython3",
   "version": "3.9.16"
  },
  "orig_nbformat": 4
 },
 "nbformat": 4,
 "nbformat_minor": 2
}
